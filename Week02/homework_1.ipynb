{
  "nbformat": 4,
  "nbformat_minor": 0,
  "metadata": {
    "colab": {
      "name": "homework_1.ipynb",
      "provenance": [],
      "collapsed_sections": []
    },
    "kernelspec": {
      "name": "python3",
      "display_name": "Python 3"
    }
  },
  "cells": [
    {
      "cell_type": "markdown",
      "metadata": {
        "id": "TDZqcsTjZ91o"
      },
      "source": [
        "# 并行版本"
      ]
    },
    {
      "cell_type": "code",
      "metadata": {
        "id": "wKUGT8bsZ14K"
      },
      "source": [
        "%%cython --cplus -a\n",
        "import numpy as np\n",
        "cimport numpy as cnp \n",
        "cimport cython\n",
        "from libcpp.map cimport map as mapcpp\n",
        "from cython.parallel import prange\n",
        "\n",
        "@cython.boundscheck(False)\n",
        "@cython.wraparound(False)\n",
        "# 要采取一致的类型，不能 Py_ssize_t n long[:] x_array[] -> x_array[n] -> 段错误\n",
        "# cdef void write_2_map(Py_ssize_t[:]  x_array,\n",
        "#             Py_ssize_t[:]  y_array,\n",
        "#             const Py_ssize_t n,\n",
        "#             mapcpp[int, int] &sum_map,\n",
        "#             mapcpp[int, int] &count_map) nogil:\n",
        "#   # start here\n",
        "#   cdef mapcpp[int, int].iterator it\n",
        "#   cdef Py_ssize_t x = x_array[n]\n",
        "#   cdef Py_ssize_t y = y_array[n]\n",
        "#   it = sum_map.find(x)\n",
        "#   if it != sum_map.end():\n",
        "#     sum_map[x]  += y\n",
        "#     count_map[x] += 1\n",
        "#   else:\n",
        "#     sum_map[x]  = y\n",
        "#     count_map[x] = 1\n",
        "\n",
        "@cython.boundscheck(False)\n",
        "@cython.wraparound(False)\n",
        "cpdef double[:] target_mean_cy_with_para(data, str y_name, str x_name):\n",
        "  cdef mapcpp[int, int] type_2_sum_dict  = mapcpp[int, int]()\n",
        "  cdef mapcpp[int, int] type_2_count_dict = mapcpp[int, int]()\n",
        "  cdef mapcpp[int, int].iterator it\n",
        "\n",
        "  cdef Py_ssize_t i\n",
        "  cdef Py_ssize_t x, y # 不得放到 for 里头用 cdef\n",
        "  # cdef cnp.ndarray[Py_ssize_t] n_y = data[y_name].values # values faster than to_numpy\n",
        "  # cdef cnp.ndarray[Py_ssize_t] n_x = data[x_name].values\n",
        "  cdef Py_ssize_t[:] n_y = data[y_name].values\n",
        "  cdef Py_ssize_t[:] n_x = data[x_name].values\n",
        "  cdef Py_ssize_t nums  = n_x.shape[0]\n",
        "  cdef double[:] result = np.zeros(nums, np.float64)\n",
        "  for i in prange(nums, nogil = True):\n",
        "    # write_2_map(n_x, n_y, i, type_2_sum_dict, type_2_count_dict)\n",
        "    x = n_x[i]\n",
        "    y = n_y[i]\n",
        "    it = type_2_sum_dict.find(x)\n",
        "    if it != type_2_sum_dict.end():\n",
        "      type_2_sum_dict[x]  += y\n",
        "      type_2_count_dict[x] += 1\n",
        "    else:\n",
        "      type_2_sum_dict[x]  = y\n",
        "      type_2_count_dict[x] = 1\n",
        "  for i in prange(nums, nogil = True):\n",
        "    x = n_x[i]\n",
        "    y = n_y[i]\n",
        "    result[i]  = (type_2_sum_dict[x] - y) / (type_2_count_dict[x] - 1)\n",
        "  return result"
      ],
      "execution_count": null,
      "outputs": []
    },
    {
      "cell_type": "markdown",
      "metadata": {
        "id": "WvnGpwc8aKVM"
      },
      "source": [
        "# 非并行版本"
      ]
    },
    {
      "cell_type": "code",
      "metadata": {
        "id": "iNx5Mov5aMX-"
      },
      "source": [
        "%%cython -a --cplus\n",
        "import numpy as np\n",
        "cimport numpy as cnp \n",
        "cimport cython\n",
        "from libcpp.map cimport map as mapcpp\n",
        "\n",
        "\n",
        "@cython.boundscheck(False)\n",
        "@cython.wraparound(False)\n",
        "# 发现 pandas 瓶颈，换成 numpy\n",
        "cpdef target_mean_cy_without_para(data, str y_name, str x_name):\n",
        "  cdef mapcpp[int, int] type_2_sum_dict   = mapcpp[int, int]()\n",
        "  cdef mapcpp[int, int] type_2_count_dict = mapcpp[int, int]()\n",
        "  cdef mapcpp[int, int].iterator it\n",
        "\n",
        "  cdef Py_ssize_t i\n",
        "  cdef Py_ssize_t x, y # 不得放到 for 里头用 cdef\n",
        "  # cdef cnp.ndarray[Py_ssize_t] n_y = data[y_name].values # values faster than to_numpy\n",
        "  # cdef cnp.ndarray[Py_ssize_t] n_x = data[x_name].values\n",
        "  cdef Py_ssize_t[:] n_y = data[y_name].values # values faster than to_numpy\n",
        "  cdef Py_ssize_t[:] n_x = data[x_name].values\n",
        "\n",
        "  cdef Py_ssize_t nums  = n_x.shape[0] # 这个 2us 优化，一般\n",
        "  # cdef cnp.ndarray[double] result = np.zeros(nums)\n",
        "  cdef float[:] result = np.zeros(nums, np.float32)\n",
        "  for i from 0 <= i < nums by 1: \n",
        "  # for i in range(nums):\n",
        "    x = n_x[i]\n",
        "    y = n_y[i]\n",
        "    it = type_2_sum_dict.find(x)\n",
        "    if it != type_2_sum_dict.end():\n",
        "      type_2_sum_dict[x]   += y\n",
        "      type_2_count_dict[x] += 1\n",
        "    else:\n",
        "      type_2_sum_dict[x]   = y\n",
        "      type_2_count_dict[x] = 1\n",
        "  # for i in range(nums):\n",
        "  for i from 0 <= i < nums by 1: \n",
        "    x = n_x[i]\n",
        "    y = n_y[i]\n",
        "    result[i]  = (type_2_sum_dict[x] - y) / (type_2_count_dict[x] - 1)\n",
        "  return result"
      ],
      "execution_count": null,
      "outputs": []
    }
  ]
}